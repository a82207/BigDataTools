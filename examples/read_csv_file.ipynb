{
 "cells": [
  {
   "cell_type": "code",
   "execution_count": 1,
   "id": "cd0ed83a",
   "metadata": {},
   "outputs": [],
   "source": [
    "from pyspark.sql import SparkSession"
   ]
  },
  {
   "cell_type": "markdown",
   "id": "acbfcd4e",
   "metadata": {},
   "source": [
    "### Initialize Spark session:"
   ]
  },
  {
   "cell_type": "code",
   "execution_count": 2,
   "id": "df648b8f",
   "metadata": {},
   "outputs": [],
   "source": [
    "spark = SparkSession \\\n",
    "    .builder \\\n",
    "    .appName(\"how to read csv file\") \\\n",
    "    .getOrCreate()"
   ]
  },
  {
   "cell_type": "markdown",
   "id": "a197b4da",
   "metadata": {},
   "source": [
    "Check Spark version:"
   ]
  },
  {
   "cell_type": "code",
   "execution_count": 3,
   "id": "a353fc66",
   "metadata": {},
   "outputs": [
    {
     "data": {
      "text/plain": [
       "'3.1.2'"
      ]
     },
     "execution_count": 3,
     "metadata": {},
     "output_type": "execute_result"
    }
   ],
   "source": [
    "spark.version"
   ]
  },
  {
   "cell_type": "markdown",
   "id": "f97644da",
   "metadata": {},
   "source": [
    "### Read csv file:"
   ]
  },
  {
   "cell_type": "code",
   "execution_count": 5,
   "id": "8a93c6e8",
   "metadata": {},
   "outputs": [
    {
     "name": "stderr",
     "output_type": "stream",
     "text": [
      "                                                                                \r"
     ]
    }
   ],
   "source": [
    "df = spark.read.csv('SUSY.csv')"
   ]
  },
  {
   "cell_type": "code",
   "execution_count": 6,
   "id": "afe0cccc",
   "metadata": {},
   "outputs": [
    {
     "data": {
      "text/plain": [
       "pyspark.sql.dataframe.DataFrame"
      ]
     },
     "execution_count": 6,
     "metadata": {},
     "output_type": "execute_result"
    }
   ],
   "source": [
    "type(df)"
   ]
  },
  {
   "cell_type": "code",
   "execution_count": 7,
   "id": "044c5095",
   "metadata": {},
   "outputs": [
    {
     "name": "stdout",
     "output_type": "stream",
     "text": [
      "+--------------------+--------------------+--------------------+--------------------+--------------------+--------------------+--------------------+--------------------+--------------------+--------------------+--------------------+--------------------+--------------------+--------------------+--------------------+--------------------+--------------------+--------------------+--------------------+\n",
      "|                 _c0|                 _c1|                 _c2|                 _c3|                 _c4|                 _c5|                 _c6|                 _c7|                 _c8|                 _c9|                _c10|                _c11|                _c12|                _c13|                _c14|                _c15|                _c16|                _c17|                _c18|\n",
      "+--------------------+--------------------+--------------------+--------------------+--------------------+--------------------+--------------------+--------------------+--------------------+--------------------+--------------------+--------------------+--------------------+--------------------+--------------------+--------------------+--------------------+--------------------+--------------------+\n",
      "|0.000000000000000...|9.728614687919616...|6.538545489311218...|1.176224589347839...|1.157156467437744...|-1.73987317085266...|-8.74309062957763...|5.677649974822998...|-1.75000041723251...|8.100607395172119...|-2.52552121877670...|1.921887040138244...|8.896374106407165...|4.107718467712402...|1.145620822906494...|1.932632088661193...|9.944640994071960...|1.367815494537353...|4.071449860930442...|\n",
      "|1.000000000000000...|1.667973041534423...|6.419061869382858...|-1.22517144680023...|5.061022043228149...|-3.38938981294631...|1.672542810440063...|3.475464344024658...|-1.21913635730743...|1.295456290245056...|3.775173664093017...|1.045977115631103...|5.680512785911560...|4.819284379482269...|0.000000000000000...|4.484102725982666...|2.053557634353637...|1.321893453598022...|3.775840103626251...|\n",
      "|1.000000000000000...|4.448399245738983...|-1.34298011660575...|-7.09971606731414...|4.517189264297485...|-1.61387121677398...|-7.68660902976989...|1.219918131828308...|5.040258169174194...|1.831247568130493...|-4.31385308504104...|5.262832045555114...|9.415140151977539...|1.587535023689270...|2.024308204650878...|6.034975647926330...|1.562373995780944...|1.135454416275024...|1.809100061655044...|\n",
      "|1.000000000000000...|3.812560737133026...|-9.76145386695861...|6.931523084640502...|4.489588439464569...|8.917528986930847...|-6.77328467369079...|2.033060073852539...|1.533040523529052...|3.046259880065917...|-1.00528478622436...|5.693860650062561...|1.015211343765258...|1.582216739654541...|1.551914215087890...|7.612152099609375...|1.715463757514953...|1.492256760597229...|9.071890264749526...|\n",
      "|1.000000000000000...|1.309996485710144...|-6.90089464187622...|-6.76259279251098...|1.589282631874084...|-6.93325638771057...|6.229069828987121...|1.087561845779418...|-3.81741672754287...|5.892043709754943...|1.365478992462158...|1.179295063018798...|9.682182073593139...|7.285631299018859...|0.000000000000000...|1.083157896995544...|4.342924803495407...|1.154853701591491...|9.485860168933868...|\n",
      "+--------------------+--------------------+--------------------+--------------------+--------------------+--------------------+--------------------+--------------------+--------------------+--------------------+--------------------+--------------------+--------------------+--------------------+--------------------+--------------------+--------------------+--------------------+--------------------+\n",
      "only showing top 5 rows\n",
      "\n"
     ]
    }
   ],
   "source": [
    "df.show(5)"
   ]
  },
  {
   "cell_type": "markdown",
   "id": "e035d62b",
   "metadata": {},
   "source": [
    "(SUSY.csv has no header)"
   ]
  },
  {
   "cell_type": "code",
   "execution_count": 8,
   "id": "0167606b",
   "metadata": {},
   "outputs": [
    {
     "data": {
      "text/plain": [
       "StructType(List(StructField(_c0,StringType,true),StructField(_c1,StringType,true),StructField(_c2,StringType,true),StructField(_c3,StringType,true),StructField(_c4,StringType,true),StructField(_c5,StringType,true),StructField(_c6,StringType,true),StructField(_c7,StringType,true),StructField(_c8,StringType,true),StructField(_c9,StringType,true),StructField(_c10,StringType,true),StructField(_c11,StringType,true),StructField(_c12,StringType,true),StructField(_c13,StringType,true),StructField(_c14,StringType,true),StructField(_c15,StringType,true),StructField(_c16,StringType,true),StructField(_c17,StringType,true),StructField(_c18,StringType,true)))"
      ]
     },
     "execution_count": 8,
     "metadata": {},
     "output_type": "execute_result"
    }
   ],
   "source": [
    "df.schema"
   ]
  },
  {
   "cell_type": "code",
   "execution_count": 10,
   "id": "2d0b1881",
   "metadata": {},
   "outputs": [
    {
     "name": "stderr",
     "output_type": "stream",
     "text": [
      "                                                                                \r"
     ]
    },
    {
     "data": {
      "text/plain": [
       "StructType(List(StructField(_c0,DoubleType,true),StructField(_c1,DoubleType,true),StructField(_c2,DoubleType,true),StructField(_c3,DoubleType,true),StructField(_c4,DoubleType,true),StructField(_c5,DoubleType,true),StructField(_c6,DoubleType,true),StructField(_c7,DoubleType,true),StructField(_c8,DoubleType,true),StructField(_c9,DoubleType,true),StructField(_c10,DoubleType,true),StructField(_c11,DoubleType,true),StructField(_c12,DoubleType,true),StructField(_c13,DoubleType,true),StructField(_c14,DoubleType,true),StructField(_c15,DoubleType,true),StructField(_c16,DoubleType,true),StructField(_c17,DoubleType,true),StructField(_c18,DoubleType,true)))"
      ]
     },
     "execution_count": 10,
     "metadata": {},
     "output_type": "execute_result"
    }
   ],
   "source": [
    "df2 = spark.read.csv(\"SUSY.csv\", header=False, inferSchema = True)\n",
    "df2.schema"
   ]
  },
  {
   "cell_type": "markdown",
   "id": "8df10945",
   "metadata": {},
   "source": [
    "inferSchema=true:\n",
    "\n",
    "Spark will automatically go through the csv file and infer the schema of each column"
   ]
  }
 ],
 "metadata": {
  "kernelspec": {
   "display_name": "Python 3 (ipykernel)",
   "language": "python",
   "name": "python3"
  },
  "language_info": {
   "codemirror_mode": {
    "name": "ipython",
    "version": 3
   },
   "file_extension": ".py",
   "mimetype": "text/x-python",
   "name": "python",
   "nbconvert_exporter": "python",
   "pygments_lexer": "ipython3",
   "version": "3.8.10"
  }
 },
 "nbformat": 4,
 "nbformat_minor": 5
}
